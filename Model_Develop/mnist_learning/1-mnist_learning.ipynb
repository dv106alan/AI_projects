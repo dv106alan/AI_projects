{
 "cells": [
  {
   "cell_type": "markdown",
   "metadata": {},
   "source": [
    "設定參數"
   ]
  },
  {
   "cell_type": "code",
   "execution_count": 1,
   "metadata": {},
   "outputs": [
    {
     "name": "stderr",
     "output_type": "stream",
     "text": [
      "2024-05-01 15:16:31.961482: I tensorflow/core/platform/cpu_feature_guard.cc:193] This TensorFlow binary is optimized with oneAPI Deep Neural Network Library (oneDNN) to use the following CPU instructions in performance-critical operations:  AVX2 FMA\n",
      "To enable them in other operations, rebuild TensorFlow with the appropriate compiler flags.\n"
     ]
    }
   ],
   "source": [
    "import tensorflow as tf\n",
    "from tensorflow import keras\n",
    "from tensorflow.keras.utils import to_categorical\n",
    "import numpy as np\n",
    "import logging\n",
    "\n",
    "tf.get_logger().setLevel(logging.ERROR)\n",
    "tf.random.set_seed(7)\n",
    "\n",
    "EPOCHS = 20\n",
    "BATCH_SIZE = 1\n"
   ]
  },
  {
   "cell_type": "markdown",
   "metadata": {},
   "source": [
    "標準化訓練資料"
   ]
  },
  {
   "cell_type": "code",
   "execution_count": 2,
   "metadata": {},
   "outputs": [],
   "source": [
    "mnist = keras.datasets.mnist\n",
    "(train_images, train_labels), (test_images, test_labels) = mnist.load_data()\n",
    "\n",
    "mean = np.mean(train_images)\n",
    "stddev = np.std(train_images)\n",
    "train_images = (train_images - mean) / stddev\n",
    "test_images = (test_images - mean) / stddev\n",
    "\n",
    "train_labels = to_categorical(train_labels, num_classes=10)\n",
    "test_labels = to_categorical(test_labels, num_classes=10)\n"
   ]
  },
  {
   "cell_type": "markdown",
   "metadata": {},
   "source": [
    "建立模型"
   ]
  },
  {
   "cell_type": "code",
   "execution_count": 3,
   "metadata": {},
   "outputs": [
    {
     "name": "stderr",
     "output_type": "stream",
     "text": [
      "2024-05-01 15:17:01.155736: I tensorflow/core/platform/cpu_feature_guard.cc:193] This TensorFlow binary is optimized with oneAPI Deep Neural Network Library (oneDNN) to use the following CPU instructions in performance-critical operations:  AVX2 FMA\n",
      "To enable them in other operations, rebuild TensorFlow with the appropriate compiler flags.\n",
      "/Users/AlanLin/ML/venv3-8/lib/python3.8/site-packages/keras/initializers/initializers_v2.py:120: UserWarning: The initializer RandomUniform is unseeded and being called multiple times, which will return identical values  each time (even if the initializer is unseeded). Please update your code to provide a seed to the initializer, or avoid using the same initalizer instance more than once.\n",
      "  warnings.warn(\n"
     ]
    }
   ],
   "source": [
    "initializer = keras.initializers.RandomUniform(minval=-0.1, maxval=0.1)\n",
    "\n",
    "model = keras.Sequential([\n",
    "    keras.layers.Flatten(input_shape=(28, 28)),\n",
    "    keras.layers.Dense(25, activation='tanh',\n",
    "                   kernel_initializer=initializer,\n",
    "                   bias_initializer='zeros'),\n",
    "    keras.layers.Dense(10, activation='sigmoid',\n",
    "                   kernel_initializer=initializer,\n",
    "                   bias_initializer='zeros')\n",
    "])\n",
    "\n"
   ]
  },
  {
   "cell_type": "markdown",
   "metadata": {},
   "source": [
    "訓練模型"
   ]
  },
  {
   "cell_type": "code",
   "execution_count": 4,
   "metadata": {},
   "outputs": [
    {
     "name": "stdout",
     "output_type": "stream",
     "text": [
      "Epoch 1/20\n",
      "60000/60000 - 66s - loss: 0.0529 - accuracy: 0.6928 - val_loss: 0.0268 - val_accuracy: 0.8850 - 66s/epoch - 1ms/step\n",
      "Epoch 2/20\n",
      "60000/60000 - 67s - loss: 0.0220 - accuracy: 0.8946 - val_loss: 0.0178 - val_accuracy: 0.9113 - 67s/epoch - 1ms/step\n",
      "Epoch 3/20\n",
      "60000/60000 - 66s - loss: 0.0170 - accuracy: 0.9109 - val_loss: 0.0154 - val_accuracy: 0.9198 - 66s/epoch - 1ms/step\n",
      "Epoch 4/20\n",
      "60000/60000 - 66s - loss: 0.0149 - accuracy: 0.9196 - val_loss: 0.0141 - val_accuracy: 0.9238 - 66s/epoch - 1ms/step\n",
      "Epoch 5/20\n",
      "60000/60000 - 67s - loss: 0.0137 - accuracy: 0.9249 - val_loss: 0.0131 - val_accuracy: 0.9282 - 67s/epoch - 1ms/step\n",
      "Epoch 6/20\n",
      "60000/60000 - 63s - loss: 0.0128 - accuracy: 0.9292 - val_loss: 0.0127 - val_accuracy: 0.9300 - 63s/epoch - 1ms/step\n",
      "Epoch 7/20\n",
      "60000/60000 - 66s - loss: 0.0122 - accuracy: 0.9327 - val_loss: 0.0122 - val_accuracy: 0.9300 - 66s/epoch - 1ms/step\n",
      "Epoch 8/20\n",
      "60000/60000 - 68s - loss: 0.0116 - accuracy: 0.9350 - val_loss: 0.0120 - val_accuracy: 0.9318 - 68s/epoch - 1ms/step\n",
      "Epoch 9/20\n",
      "60000/60000 - 66s - loss: 0.0112 - accuracy: 0.9378 - val_loss: 0.0114 - val_accuracy: 0.9349 - 66s/epoch - 1ms/step\n",
      "Epoch 10/20\n",
      "60000/60000 - 67s - loss: 0.0109 - accuracy: 0.9399 - val_loss: 0.0114 - val_accuracy: 0.9343 - 67s/epoch - 1ms/step\n",
      "Epoch 11/20\n",
      "60000/60000 - 68s - loss: 0.0106 - accuracy: 0.9412 - val_loss: 0.0110 - val_accuracy: 0.9366 - 68s/epoch - 1ms/step\n",
      "Epoch 12/20\n",
      "60000/60000 - 64s - loss: 0.0103 - accuracy: 0.9432 - val_loss: 0.0109 - val_accuracy: 0.9378 - 64s/epoch - 1ms/step\n",
      "Epoch 13/20\n",
      "60000/60000 - 69s - loss: 0.0100 - accuracy: 0.9441 - val_loss: 0.0107 - val_accuracy: 0.9392 - 69s/epoch - 1ms/step\n",
      "Epoch 14/20\n",
      "60000/60000 - 77s - loss: 0.0098 - accuracy: 0.9456 - val_loss: 0.0106 - val_accuracy: 0.9401 - 77s/epoch - 1ms/step\n",
      "Epoch 15/20\n",
      "60000/60000 - 84s - loss: 0.0096 - accuracy: 0.9463 - val_loss: 0.0105 - val_accuracy: 0.9393 - 84s/epoch - 1ms/step\n",
      "Epoch 16/20\n",
      "60000/60000 - 69s - loss: 0.0095 - accuracy: 0.9473 - val_loss: 0.0103 - val_accuracy: 0.9407 - 69s/epoch - 1ms/step\n",
      "Epoch 17/20\n",
      "60000/60000 - 73s - loss: 0.0093 - accuracy: 0.9481 - val_loss: 0.0102 - val_accuracy: 0.9397 - 73s/epoch - 1ms/step\n",
      "Epoch 18/20\n",
      "60000/60000 - 73s - loss: 0.0091 - accuracy: 0.9496 - val_loss: 0.0102 - val_accuracy: 0.9415 - 73s/epoch - 1ms/step\n",
      "Epoch 19/20\n",
      "60000/60000 - 68s - loss: 0.0090 - accuracy: 0.9501 - val_loss: 0.0101 - val_accuracy: 0.9410 - 68s/epoch - 1ms/step\n",
      "Epoch 20/20\n",
      "60000/60000 - 74s - loss: 0.0088 - accuracy: 0.9509 - val_loss: 0.0100 - val_accuracy: 0.9416 - 74s/epoch - 1ms/step\n"
     ]
    }
   ],
   "source": [
    "\n",
    "opt = keras.optimizers.SGD(learning_rate=0.01)\n",
    "\n",
    "model.compile(loss='mean_squared_error', optimizer=opt, metrics=['accuracy'])\n",
    "\n",
    "history = model.fit(train_images, train_labels,\n",
    "                    validation_data=(test_images, test_labels),\n",
    "                    epochs=EPOCHS, batch_size=BATCH_SIZE,\n",
    "                    verbose=2, shuffle=True)\n"
   ]
  },
  {
   "cell_type": "code",
   "execution_count": 5,
   "metadata": {},
   "outputs": [],
   "source": [
    "# save the model\n",
    "model.save('3-1-mnist_learning.keras')\n",
    "\n",
    "# load the model\n",
    "# new_model = tf.keras.models.load_model('3-1-mnist_learning.keras')\n"
   ]
  }
 ],
 "metadata": {
  "kernelspec": {
   "display_name": "Python 3 (ipykernel)",
   "language": "python",
   "name": "python3"
  },
  "language_info": {
   "codemirror_mode": {
    "name": "ipython",
    "version": 3
   },
   "file_extension": ".py",
   "mimetype": "text/x-python",
   "name": "python",
   "nbconvert_exporter": "python",
   "pygments_lexer": "ipython3",
   "version": "3.8.19"
  }
 },
 "nbformat": 4,
 "nbformat_minor": 2
}
