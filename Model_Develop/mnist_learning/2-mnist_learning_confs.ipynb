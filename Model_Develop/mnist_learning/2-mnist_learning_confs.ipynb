{
 "cells": [
  {
   "cell_type": "code",
   "execution_count": 1,
   "metadata": {},
   "outputs": [
    {
     "name": "stderr",
     "output_type": "stream",
     "text": [
      "2024-05-01 16:18:14.594387: I tensorflow/core/platform/cpu_feature_guard.cc:193] This TensorFlow binary is optimized with oneAPI Deep Neural Network Library (oneDNN) to use the following CPU instructions in performance-critical operations:  AVX2 FMA\n",
      "To enable them in other operations, rebuild TensorFlow with the appropriate compiler flags.\n"
     ]
    }
   ],
   "source": [
    "import tensorflow as tf\n",
    "from tensorflow import keras\n",
    "from tensorflow.keras.utils import to_categorical\n",
    "import numpy as np\n",
    "import logging\n",
    "tf.get_logger().setLevel(logging.ERROR)\n",
    "\n",
    "EPOCHS = 20\n",
    "BATCH_SIZE = 64\n",
    "\n",
    "# 載入資料集\n",
    "mnist = keras.datasets.mnist\n",
    "(train_images, train_labels), (test_images,\n",
    "                               test_labels) = mnist.load_data()\n",
    "\n",
    "# 輸入資料做正規化.\n",
    "mean = np.mean(train_images)\n",
    "stddev = np.std(train_images)\n",
    "train_images = (train_images - mean) / stddev\n",
    "test_images = (test_images - mean) / stddev\n",
    "\n",
    "# One-hots 編碼\n",
    "train_labels = to_categorical(train_labels, num_classes=10)\n",
    "test_labels = to_categorical(test_labels, num_classes=10)\n"
   ]
  },
  {
   "cell_type": "markdown",
   "metadata": {},
   "source": [
    "建立並訓練模型"
   ]
  },
  {
   "cell_type": "code",
   "execution_count": 5,
   "metadata": {},
   "outputs": [
    {
     "name": "stdout",
     "output_type": "stream",
     "text": [
      "Epoch 1/20\n",
      "938/938 - 2s - loss: 0.3589 - accuracy: 0.8930 - val_loss: 0.2115 - val_accuracy: 0.9380 - 2s/epoch - 2ms/step\n",
      "Epoch 2/20\n",
      "938/938 - 1s - loss: 0.1969 - accuracy: 0.9421 - val_loss: 0.1675 - val_accuracy: 0.9494 - 1s/epoch - 2ms/step\n",
      "Epoch 3/20\n",
      "938/938 - 1s - loss: 0.1621 - accuracy: 0.9513 - val_loss: 0.1431 - val_accuracy: 0.9564 - 1s/epoch - 1ms/step\n",
      "Epoch 4/20\n",
      "938/938 - 1s - loss: 0.1385 - accuracy: 0.9575 - val_loss: 0.1441 - val_accuracy: 0.9567 - 1s/epoch - 2ms/step\n",
      "Epoch 5/20\n",
      "938/938 - 1s - loss: 0.1242 - accuracy: 0.9624 - val_loss: 0.1375 - val_accuracy: 0.9582 - 1s/epoch - 1ms/step\n",
      "Epoch 6/20\n",
      "938/938 - 1s - loss: 0.1122 - accuracy: 0.9663 - val_loss: 0.1382 - val_accuracy: 0.9589 - 1s/epoch - 1ms/step\n",
      "Epoch 7/20\n",
      "938/938 - 1s - loss: 0.1052 - accuracy: 0.9676 - val_loss: 0.1252 - val_accuracy: 0.9616 - 1s/epoch - 1ms/step\n",
      "Epoch 8/20\n",
      "938/938 - 1s - loss: 0.0984 - accuracy: 0.9695 - val_loss: 0.1231 - val_accuracy: 0.9637 - 1s/epoch - 2ms/step\n",
      "Epoch 9/20\n",
      "938/938 - 2s - loss: 0.0924 - accuracy: 0.9713 - val_loss: 0.1221 - val_accuracy: 0.9646 - 2s/epoch - 2ms/step\n",
      "Epoch 10/20\n",
      "938/938 - 1s - loss: 0.0872 - accuracy: 0.9726 - val_loss: 0.1279 - val_accuracy: 0.9639 - 1s/epoch - 1ms/step\n",
      "Epoch 11/20\n",
      "938/938 - 1s - loss: 0.0824 - accuracy: 0.9740 - val_loss: 0.1286 - val_accuracy: 0.9641 - 1s/epoch - 1ms/step\n",
      "Epoch 12/20\n",
      "938/938 - 1s - loss: 0.0792 - accuracy: 0.9751 - val_loss: 0.1225 - val_accuracy: 0.9628 - 1s/epoch - 1ms/step\n",
      "Epoch 13/20\n",
      "938/938 - 1s - loss: 0.0755 - accuracy: 0.9759 - val_loss: 0.1208 - val_accuracy: 0.9653 - 1s/epoch - 1ms/step\n",
      "Epoch 14/20\n",
      "938/938 - 1s - loss: 0.0727 - accuracy: 0.9773 - val_loss: 0.1283 - val_accuracy: 0.9639 - 1s/epoch - 1ms/step\n",
      "Epoch 15/20\n",
      "938/938 - 1s - loss: 0.0711 - accuracy: 0.9772 - val_loss: 0.1321 - val_accuracy: 0.9639 - 1s/epoch - 2ms/step\n",
      "Epoch 16/20\n",
      "938/938 - 1s - loss: 0.0675 - accuracy: 0.9786 - val_loss: 0.1304 - val_accuracy: 0.9640 - 1s/epoch - 1ms/step\n",
      "Epoch 17/20\n",
      "938/938 - 1s - loss: 0.0641 - accuracy: 0.9797 - val_loss: 0.1284 - val_accuracy: 0.9647 - 1s/epoch - 2ms/step\n",
      "Epoch 18/20\n",
      "938/938 - 1s - loss: 0.0622 - accuracy: 0.9797 - val_loss: 0.1337 - val_accuracy: 0.9644 - 1s/epoch - 1ms/step\n",
      "Epoch 19/20\n",
      "938/938 - 1s - loss: 0.0594 - accuracy: 0.9814 - val_loss: 0.1355 - val_accuracy: 0.9656 - 1s/epoch - 1ms/step\n",
      "Epoch 20/20\n",
      "938/938 - 1s - loss: 0.0582 - accuracy: 0.9815 - val_loss: 0.1332 - val_accuracy: 0.9652 - 1s/epoch - 2ms/step\n"
     ]
    },
    {
     "data": {
      "text/plain": [
       "<keras.callbacks.History at 0x16177c7f0>"
      ]
     },
     "execution_count": 5,
     "metadata": {},
     "output_type": "execute_result"
    }
   ],
   "source": [
    "model = keras.Sequential([\n",
    "    keras.layers.Flatten(input_shape=(28, 28)),\n",
    "    keras.layers.Dense(25, activation='relu',\n",
    "                   kernel_initializer='he_normal',\n",
    "                   bias_initializer='zeros'),\n",
    "    keras.layers.Dense(10, activation='softmax',\n",
    "                   kernel_initializer='glorot_uniform',\n",
    "                   bias_initializer='zeros')\n",
    "])\n",
    "\n",
    "model.compile(loss='categorical_crossentropy',\n",
    "              optimizer='adam',\n",
    "              metrics=['accuracy'])\n",
    "\n",
    "model.fit(train_images, train_labels,\n",
    "          validation_data=(test_images, test_labels),\n",
    "          epochs=EPOCHS, batch_size=BATCH_SIZE,\n",
    "          verbose=2, shuffle=True\n",
    ")\n"
   ]
  }
 ],
 "metadata": {
  "kernelspec": {
   "display_name": "Python 3 (ipykernel)",
   "language": "python",
   "name": "python3"
  },
  "language_info": {
   "codemirror_mode": {
    "name": "ipython",
    "version": 3
   },
   "file_extension": ".py",
   "mimetype": "text/x-python",
   "name": "python",
   "nbconvert_exporter": "python",
   "pygments_lexer": "ipython3",
   "version": "3.8.19"
  }
 },
 "nbformat": 4,
 "nbformat_minor": 2
}
